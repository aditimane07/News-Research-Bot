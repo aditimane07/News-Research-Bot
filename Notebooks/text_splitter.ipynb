{
 "cells": [
  {
   "cell_type": "code",
   "execution_count": 8,
   "metadata": {},
   "outputs": [],
   "source": [
    "## importing the necessary libraries\n",
    "from langchain.text_splitter import CharacterTextSplitter\n",
    "from langchain.text_splitter import RecursiveCharacterTextSplitter"
   ]
  },
  {
   "cell_type": "code",
   "execution_count": 4,
   "metadata": {},
   "outputs": [],
   "source": [
    "## random text from wikipedia\n",
    "text = '''\n",
    "Nosferatu is a 2024 American gothic horror film written and directed by Robert Eggers. It is a remake of the film Nosferatu: A Symphony of Horror (1922), itself an unauthorized adaptation of Bram Stoker's novel Dracula (1897). It stars Bill Skarsgård, Nicholas Hoult, and Lily-Rose Depp. The supporting cast includes Aaron Taylor-Johnson, Emma Corrin, Ralph Ineson, Simon McBurney, and Willem Dafoe.\n",
    "\n",
    "Development began in 2015, when Eggers planned to make it his second film; he described it as a passion project, but eventually opted to delay its production. Skarsgård and Depp were cast in lead roles in September 2022. Filming took place primarily at Barrandov Studios in Prague between February and May 2023.\n",
    "Nosferatu had its world premiere in Berlin on December 2, 2024, and theatrically released in the United States by Focus Features and internationally by Universal Pictures on December 25. The film received positive reviews from critics and has grossed $173 million worldwide on a $50 million budget, becoming Eggers' highest-grossing film. At the 97th Academy Awards, the film earned nominations for Best Cinematography, Best Costume Design, Best Production Design, and Best Makeup and Hairstyling.\n",
    "Plot\n",
    "In the early 1800s, a young Ellen pleads for a supernatural being to ease her loneliness. Her cries awaken a mysterious creature who makes her pledge herself to him eternally.\n",
    "\n",
    "In 1838, Ellen has married Thomas Hutter, and the couple live in the German town of Wisburg. Thomas accepts a lucrative commission from his employer, Herr Knock, to sell the decrepit Grünewald Manor to the reclusive Count Orlok. Ellen, disturbed by a pleasurable dream of marrying Death, begs Thomas to stay, to no avail. He leaves her in the care of his wealthy friend Friedrich Harding and his friend's wife Anna, along with their two young daughters.\n",
    "\n",
    "Arriving at the Carpathians in Transylvania, Thomas is surrounded by the local peasantry and seemingly shunned for associating with Orlok. He manages to secure a night at the inn by paying twice the rate, and is warned by an old woman to not visit Orlok. That night, he witnesses a group of Roma exhuming and impaling an alleged vampire's corpse with a stake. The following morning, he finds the village deserted and his horse gone. He continues on foot until an unmanned carriage carries him to Orlok's castle.\n",
    "\n",
    "Upon their meeting, the strange, menacing Orlok forces Thomas to complete the property sale. When Thomas accidentally cuts himself during dinner, he blacks out and awakens to find bite marks on his chest. Orlok demands Thomas' locket containing a lock of Ellen's hair and does not give it back. He coerces Thomas into signing a document written in occult script, which Orlok implies is the contract for selling the manor. Thomas is becoming increasingly sick and fearful. He demands to leave, but Orlok rebuffs him and demands Thomas to remain to recover before departing. After awakening to find more bite marks on his chest, Thomas panics, attempts to escape the castle, and instead ends up in a crypt where he finds the Count asleep in a coffin. Thomas grabs a pickaxe and attempts to impale the grotesque preternatural body of Orlok, but Orlok awakens, grabs the pick, and chases Thomas. Thomas escapes Orlok and his wolves by falling into a river beneath the castle, and is cared for by Orthodox nuns at a nearby church who inform him of the evil of Orlok. Meanwhile, Orlok sets sail for Wisburg inside his coffin and on a ship with plague-carrying rats, killing the crew during the voyage.\n",
    "\n",
    "Dr. Wilhelm Sievers, unable to treat Ellen's frequent sleepwalking and seizures, consults with his former mentor, Albin Eberhart von Franz, a Swiss scientist ostracized for his occult beliefs. Von Franz believes Ellen is under the spell of a demonic, plague-bearing vampire called the Nosferatu. Knock is institutionalized after killing and eating sheep raw. Sievers and von Franz search Knock's office, believing he serves the Nosferatu, who is revealed as Orlok.\n",
    "\n",
    "Thomas returns to Wisburg as Orlok's plague ravages the populace. Knock escapes, killing a porter, and escorts Orlok to Grünewald Manor. Orlok appears to Ellen and confesses that, while he is incapable of love, her pledge has intertwined their destinies and made his desire to possess her insatiable. The document he tricked Thomas into signing is revealed to void the Hutters' marriage. Knowing that his bond with Ellen cannot be sustained by force, Orlok says she must willingly submit to him within three nights, else he will kill Thomas and allow the plague to consume Wisburg. Ellen later has sex with Thomas after confessing her past with Orlok, which Orlok sees telepathically. He retaliates by killing Anna and her children. Driven mad with grief, Friedrich dies from the plague while lying with Anna's corpse.\n",
    "\n",
    "Von Franz's research suggests that the Nosferatu can be destroyed by a fair maiden's willing sacrifice. Knowing only she can stop the plague, Ellen conspires with von Franz to keep Thomas away. Thomas, von Franz, and Sievers go to Grünewald Manor where they accidentally kill Knock after finding him sleeping in Orlok's coffin. Realizing von Franz's deception, Thomas rushes back to save Ellen as von Franz destroys the vault. Ellen summons Orlok to her bedroom and re-pledges herself to him, distracting him by allowing him to feed on her until sunrise, when the sunlight kills him. Thomas returns and holds Ellen's hand as she dies, while von Franz confirms that her sacrifice has freed them from the plague and Nosferatu.\n",
    "'''"
   ]
  },
  {
   "cell_type": "markdown",
   "metadata": {},
   "source": [
    "We are not using simple text spliter in python because it might cut a word in middle and writing a loop and adding intructions is tedious. Hence, we are using an api TextSplitter from langchain instead."
   ]
  },
  {
   "cell_type": "code",
   "execution_count": 5,
   "metadata": {},
   "outputs": [
    {
     "name": "stderr",
     "output_type": "stream",
     "text": [
      "Created a chunk of size 399, which is longer than the specified 200\n",
      "Created a chunk of size 311, which is longer than the specified 200\n",
      "Created a chunk of size 497, which is longer than the specified 200\n",
      "Created a chunk of size 453, which is longer than the specified 200\n",
      "Created a chunk of size 511, which is longer than the specified 200\n",
      "Created a chunk of size 1195, which is longer than the specified 200\n",
      "Created a chunk of size 464, which is longer than the specified 200\n",
      "Created a chunk of size 818, which is longer than the specified 200\n"
     ]
    },
    {
     "data": {
      "text/plain": [
       "10"
      ]
     },
     "execution_count": 5,
     "metadata": {},
     "output_type": "execute_result"
    }
   ],
   "source": [
    "splitter = CharacterTextSplitter(\n",
    "    ## can use . or ? as well\n",
    "    separator=\"\\n\",\n",
    "    chunk_size=200,\n",
    "    chunk_overlap = 0\n",
    ")\n",
    "chunks = splitter.split_text(text)\n",
    "len(chunks)"
   ]
  },
  {
   "cell_type": "code",
   "execution_count": 6,
   "metadata": {},
   "outputs": [
    {
     "name": "stdout",
     "output_type": "stream",
     "text": [
      "399\n",
      "311\n",
      "497\n",
      "180\n",
      "453\n",
      "511\n",
      "1195\n",
      "464\n",
      "818\n",
      "724\n"
     ]
    }
   ],
   "source": [
    "for chunk in chunks:\n",
    "    print(len(chunk))"
   ]
  },
  {
   "cell_type": "code",
   "execution_count": 7,
   "metadata": {},
   "outputs": [
    {
     "data": {
      "text/plain": [
       "[\"Nosferatu is a 2024 American gothic horror film written and directed by Robert Eggers. It is a remake of the film Nosferatu: A Symphony of Horror (1922), itself an unauthorized adaptation of Bram Stoker's novel Dracula (1897). It stars Bill Skarsgård, Nicholas Hoult, and Lily-Rose Depp. The supporting cast includes Aaron Taylor-Johnson, Emma Corrin, Ralph Ineson, Simon McBurney, and Willem Dafoe.\",\n",
       " 'Development began in 2015, when Eggers planned to make it his second film; he described it as a passion project, but eventually opted to delay its production. Skarsgård and Depp were cast in lead roles in September 2022. Filming took place primarily at Barrandov Studios in Prague between February and May 2023.',\n",
       " \"Nosferatu had its world premiere in Berlin on December 2, 2024, and theatrically released in the United States by Focus Features and internationally by Universal Pictures on December 25. The film received positive reviews from critics and has grossed $173 million worldwide on a $50 million budget, becoming Eggers' highest-grossing film. At the 97th Academy Awards, the film earned nominations for Best Cinematography, Best Costume Design, Best Production Design, and Best Makeup and Hairstyling.\",\n",
       " 'Plot\\nIn the early 1800s, a young Ellen pleads for a supernatural being to ease her loneliness. Her cries awaken a mysterious creature who makes her pledge herself to him eternally.',\n",
       " \"In 1838, Ellen has married Thomas Hutter, and the couple live in the German town of Wisburg. Thomas accepts a lucrative commission from his employer, Herr Knock, to sell the decrepit Grünewald Manor to the reclusive Count Orlok. Ellen, disturbed by a pleasurable dream of marrying Death, begs Thomas to stay, to no avail. He leaves her in the care of his wealthy friend Friedrich Harding and his friend's wife Anna, along with their two young daughters.\",\n",
       " \"Arriving at the Carpathians in Transylvania, Thomas is surrounded by the local peasantry and seemingly shunned for associating with Orlok. He manages to secure a night at the inn by paying twice the rate, and is warned by an old woman to not visit Orlok. That night, he witnesses a group of Roma exhuming and impaling an alleged vampire's corpse with a stake. The following morning, he finds the village deserted and his horse gone. He continues on foot until an unmanned carriage carries him to Orlok's castle.\",\n",
       " \"Upon their meeting, the strange, menacing Orlok forces Thomas to complete the property sale. When Thomas accidentally cuts himself during dinner, he blacks out and awakens to find bite marks on his chest. Orlok demands Thomas' locket containing a lock of Ellen's hair and does not give it back. He coerces Thomas into signing a document written in occult script, which Orlok implies is the contract for selling the manor. Thomas is becoming increasingly sick and fearful. He demands to leave, but Orlok rebuffs him and demands Thomas to remain to recover before departing. After awakening to find more bite marks on his chest, Thomas panics, attempts to escape the castle, and instead ends up in a crypt where he finds the Count asleep in a coffin. Thomas grabs a pickaxe and attempts to impale the grotesque preternatural body of Orlok, but Orlok awakens, grabs the pick, and chases Thomas. Thomas escapes Orlok and his wolves by falling into a river beneath the castle, and is cared for by Orthodox nuns at a nearby church who inform him of the evil of Orlok. Meanwhile, Orlok sets sail for Wisburg inside his coffin and on a ship with plague-carrying rats, killing the crew during the voyage.\",\n",
       " \"Dr. Wilhelm Sievers, unable to treat Ellen's frequent sleepwalking and seizures, consults with his former mentor, Albin Eberhart von Franz, a Swiss scientist ostracized for his occult beliefs. Von Franz believes Ellen is under the spell of a demonic, plague-bearing vampire called the Nosferatu. Knock is institutionalized after killing and eating sheep raw. Sievers and von Franz search Knock's office, believing he serves the Nosferatu, who is revealed as Orlok.\",\n",
       " \"Thomas returns to Wisburg as Orlok's plague ravages the populace. Knock escapes, killing a porter, and escorts Orlok to Grünewald Manor. Orlok appears to Ellen and confesses that, while he is incapable of love, her pledge has intertwined their destinies and made his desire to possess her insatiable. The document he tricked Thomas into signing is revealed to void the Hutters' marriage. Knowing that his bond with Ellen cannot be sustained by force, Orlok says she must willingly submit to him within three nights, else he will kill Thomas and allow the plague to consume Wisburg. Ellen later has sex with Thomas after confessing her past with Orlok, which Orlok sees telepathically. He retaliates by killing Anna and her children. Driven mad with grief, Friedrich dies from the plague while lying with Anna's corpse.\",\n",
       " \"Von Franz's research suggests that the Nosferatu can be destroyed by a fair maiden's willing sacrifice. Knowing only she can stop the plague, Ellen conspires with von Franz to keep Thomas away. Thomas, von Franz, and Sievers go to Grünewald Manor where they accidentally kill Knock after finding him sleeping in Orlok's coffin. Realizing von Franz's deception, Thomas rushes back to save Ellen as von Franz destroys the vault. Ellen summons Orlok to her bedroom and re-pledges herself to him, distracting him by allowing him to feed on her until sunrise, when the sunlight kills him. Thomas returns and holds Ellen's hand as she dies, while von Franz confirms that her sacrifice has freed them from the plague and Nosferatu.\"]"
      ]
     },
     "execution_count": 7,
     "metadata": {},
     "output_type": "execute_result"
    }
   ],
   "source": [
    "chunks"
   ]
  },
  {
   "cell_type": "code",
   "execution_count": 10,
   "metadata": {},
   "outputs": [
    {
     "data": {
      "text/plain": [
       "34"
      ]
     },
     "execution_count": 10,
     "metadata": {},
     "output_type": "execute_result"
    }
   ],
   "source": [
    "r_splitter = RecursiveCharacterTextSplitter(\n",
    "    separators=['\\n\\n', '\\n', ' '],\n",
    "    chunk_size = 200,\n",
    "    chunk_overlap = 0\n",
    ")\n",
    "chunks = r_splitter.split_text(text)\n",
    "len(chunks)"
   ]
  },
  {
   "cell_type": "code",
   "execution_count": 11,
   "metadata": {},
   "outputs": [
    {
     "name": "stdout",
     "output_type": "stream",
     "text": [
      "195\n",
      "196\n",
      "6\n",
      "195\n",
      "115\n",
      "195\n",
      "198\n",
      "102\n",
      "180\n",
      "198\n",
      "196\n",
      "57\n",
      "198\n",
      "196\n",
      "115\n",
      "197\n",
      "191\n",
      "198\n",
      "198\n",
      "196\n",
      "198\n",
      "11\n",
      "196\n",
      "198\n",
      "68\n",
      "191\n",
      "195\n",
      "199\n",
      "198\n",
      "31\n",
      "193\n",
      "199\n",
      "196\n",
      "133\n"
     ]
    }
   ],
   "source": [
    "for chunk in chunks:\n",
    "    print(len(chunk))"
   ]
  }
 ],
 "metadata": {
  "kernelspec": {
   "display_name": "newsenv",
   "language": "python",
   "name": "python3"
  },
  "language_info": {
   "codemirror_mode": {
    "name": "ipython",
    "version": 3
   },
   "file_extension": ".py",
   "mimetype": "text/x-python",
   "name": "python",
   "nbconvert_exporter": "python",
   "pygments_lexer": "ipython3",
   "version": "3.11.5"
  }
 },
 "nbformat": 4,
 "nbformat_minor": 2
}
